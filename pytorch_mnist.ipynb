{
  "nbformat": 4,
  "nbformat_minor": 0,
  "metadata": {
    "colab": {
      "name": "pytorch_mnist.ipynb",
      "provenance": [],
      "collapsed_sections": []
    },
    "kernelspec": {
      "name": "python3",
      "display_name": "Python 3"
    }
  },
  "cells": [
    {
      "cell_type": "code",
      "metadata": {
        "id": "mjU6npbtKU43",
        "colab_type": "code",
        "colab": {}
      },
      "source": [
        "import torch,torchvision\n",
        "from torch import nn,optim\n"
      ],
      "execution_count": 0,
      "outputs": []
    },
    {
      "cell_type": "code",
      "metadata": {
        "id": "QIsuZTNoMSda",
        "colab_type": "code",
        "colab": {}
      },
      "source": [
        "n_batch =64"
      ],
      "execution_count": 0,
      "outputs": []
    },
    {
      "cell_type": "code",
      "metadata": {
        "id": "rwqX0ElYK8pp",
        "colab_type": "code",
        "colab": {}
      },
      "source": [
        "T = torchvision.transforms.ToTensor()\n",
        "\n",
        "train_data = torchvision.datasets.MNIST('mnist_data',train=True,download=True,transform=T)\n",
        "val_data = torchvision.datasets.MNIST('mnist_data',train=False,download=True,transform =T)\n"
      ],
      "execution_count": 0,
      "outputs": []
    },
    {
      "cell_type": "code",
      "metadata": {
        "id": "msl5OD36MWim",
        "colab_type": "code",
        "colab": {}
      },
      "source": [
        "train_dl = torch.utils.data.DataLoader(train_data,batch_size = n_batch)\n",
        "val_dl = torch.utils.data.DataLoader(val_data,batch_size = n_batch)"
      ],
      "execution_count": 0,
      "outputs": []
    },
    {
      "cell_type": "code",
      "metadata": {
        "id": "3t3j5L3DPpse",
        "colab_type": "code",
        "colab": {}
      },
      "source": [
        "class myCNN(nn.Module):\n",
        "  def __init__(self):\n",
        "    super(myCNN)\n",
        "\n",
        "\n",
        "  def forward(self,x):  "
      ],
      "execution_count": 0,
      "outputs": []
    },
    {
      "cell_type": "code",
      "metadata": {
        "id": "uiu55H3IPqzX",
        "colab_type": "code",
        "colab": {
          "base_uri": "https://localhost:8080/",
          "height": 35
        },
        "outputId": "1dc3d8f3-03e9-424f-8250-b5eb9ce4304a"
      },
      "source": [
        "for i,(images,labels) in enumerate(train_dl):\n",
        "  print(images.size())\n",
        "  break"
      ],
      "execution_count": 14,
      "outputs": [
        {
          "output_type": "stream",
          "text": [
            "torch.Size([64, 1, 28, 28])\n"
          ],
          "name": "stdout"
        }
      ]
    }
  ]
}